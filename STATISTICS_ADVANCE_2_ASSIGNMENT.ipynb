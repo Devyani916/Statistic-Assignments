{
  "nbformat": 4,
  "nbformat_minor": 0,
  "metadata": {
    "colab": {
      "provenance": [],
      "authorship_tag": "ABX9TyNWx8M3mondPCn68x6aAxEv",
      "include_colab_link": true
    },
    "kernelspec": {
      "name": "python3",
      "display_name": "Python 3"
    },
    "language_info": {
      "name": "python"
    }
  },
  "cells": [
    {
      "cell_type": "markdown",
      "metadata": {
        "id": "view-in-github",
        "colab_type": "text"
      },
      "source": [
        "<a href=\"https://colab.research.google.com/github/Devyani916/Statistic-Assignments/blob/main/STATISTICS_ADVANCE_2_ASSIGNMENT.ipynb\" target=\"_parent\"><img src=\"https://colab.research.google.com/assets/colab-badge.svg\" alt=\"Open In Colab\"/></a>"
      ]
    },
    {
      "cell_type": "markdown",
      "source": [
        "**STATISTICS ADVANCE 2 ASSIGNMENT**"
      ],
      "metadata": {
        "id": "JHoOzHw-h7oB"
      }
    },
    {
      "cell_type": "markdown",
      "source": [
        "***Theory questions***"
      ],
      "metadata": {
        "id": "quRiumxPiGuw"
      }
    },
    {
      "cell_type": "markdown",
      "source": [
        "1. What is hypothesis testing in statistics?\n",
        "- Hypothesis Testing is a type of statistical analysis in which we put our assumptions about a population parameter to the test. It is used to estimate the relationship between 2 statistical variables. When performing hypothesis testing, we must understand different data types, such as nominal data.\n",
        "\n",
        "---\n",
        "\n"
      ],
      "metadata": {
        "id": "Fk9BhShbiNRz"
      }
    },
    {
      "cell_type": "markdown",
      "source": [
        "2. What is the null hypothesis, and how does it differ from the alternative hypothesis?\n",
        "- **Null Hypothesis (H0):** States that there is no relationship, no difference, or no effect between variables or groups being tested.  It is the default assumption when researchers aim to disprove or reject.\n",
        "- **Alternative Hypothesis (H1 or Ha):** States that there is a relationship, a\n",
        "difference, or an effect between variables or groups being tested. It is the hypothesis when researchers are trying to prove or support.\n",
        "\n",
        "---\n",
        "\n"
      ],
      "metadata": {
        "id": "naXMK8wiivo7"
      }
    },
    {
      "cell_type": "markdown",
      "source": [
        "3. What is the significance level in hypothesis testing, and why is it important?\n",
        "- In hypotehsis testing, the significance level (often denoted as alpha) is the probability of rejecting the null hypothesis when it is actually true, representing the risk of making a Type I error. It's crucial because it sets the threshold for determining statistical significance, guiding researchers in deciding whether to reject or fail to reject the null hypothesis.\n",
        "\n",
        "---\n",
        "\n"
      ],
      "metadata": {
        "id": "a5fPsWqojzi8"
      }
    },
    {
      "cell_type": "markdown",
      "source": [
        "4. What does a P-value represent in hypothesis testing?\n",
        "- In hypothesis testing, a p-value represents the probability of obtaining results as extreme as, or more extreme than, the observed results, assuming the null hypothesis is true. A smaller p-value suggests stronger evidence against the null hypothesis.\n",
        "\n",
        "---\n",
        "\n"
      ],
      "metadata": {
        "id": "Lg2FHgqNkgQc"
      }
    },
    {
      "cell_type": "markdown",
      "source": [
        "5. How do you interpret the P-value in hypothesis testing?\n",
        "- **Interpreting p-values:**\n",
        " * Small p-value (e.g., p < 0.05): The observed results are unlikely to have occurred if the null hypothesis were true, providing evidence to reject the null hypothesis.\n",
        " * Large p-value (e.g., p > 0.05): The observed results are likely to have occurred if the null hypothesis were true, failing to provide sufficient evidence to reject the null hypothesis.\n",
        "\n",
        "---\n",
        "\n"
      ],
      "metadata": {
        "id": "fN-cIVyqk5cw"
      }
    },
    {
      "cell_type": "markdown",
      "source": [
        "6. What are Type 1 and Type 2 errors in hypothesis testing?\n",
        "- A Type 1 error (false positive) occurs when you reject a true null hypothesis.\n",
        "- A Type 2 error (false negative) occurs when you fail to reject a false null hypothesis.\n",
        "\n",
        "---\n",
        "\n"
      ],
      "metadata": {
        "id": "YMlO5fU9mm7Y"
      }
    },
    {
      "cell_type": "markdown",
      "source": [
        "7. What is the difference between a one-tailed and a two-tailed test in hypothesis testing?\n",
        "- **One-tailed test:** This is used when the alternative hypothesis specifies a direction of the effect. The critical region (where the null hypothesis is rejected) is located in one tail of the distribution.\n",
        " * Example: Testing whether a new treatment is better than the current treatment, rather than just different.\n",
        "- **Two-tailed test:**This is used when the alternative hypothesis does not specify a direction. The critical region is located in both tails of the distribution.\n",
        " * Example: Testing whether a new treatment is different from the current treatment, without specifying whether it's better or worse.\n",
        "\n",
        "---\n",
        "\n",
        "\n"
      ],
      "metadata": {
        "id": "HhlSxjZ3nFGG"
      }
    },
    {
      "cell_type": "markdown",
      "source": [
        "8. What is the Z-test, and when is it used in hypothesis testing?\n",
        "- A Z-test is a statistical test used to determine if there's a significant difference between a sample mean and a population mean or between the means of two populations when the population standard deviation is known or the sample size is large, typically greater than 30.\n",
        "\n",
        "---\n",
        "\n"
      ],
      "metadata": {
        "id": "vr0vFafGn0lS"
      }
    },
    {
      "cell_type": "markdown",
      "source": [
        "9. How do you calculate the Z-score, and what does it represent in hypothesis testing?\n",
        "- The Z-score can be calculated by subtracting the population mean from a raw score and divide the result by the population standard deviation.\n",
        "- In hypothesis testing, a z-score represent how many standard deviations a data point is from the mean, helping determine if a sample is significantly different from a population.\n",
        "\n",
        "---\n",
        "\n"
      ],
      "metadata": {
        "id": "_vrKGUjtoSEh"
      }
    },
    {
      "cell_type": "markdown",
      "source": [
        "10. What is the T-distribution, and when should it be used instead of the normal distribution?\n",
        "- The t-distribution, also known as Student's t-distribution, is a probability distribution similar to the normal distribution but with heavier tails, used when estimating population parameters from small samples or when the population standard deviation is unknown.\n",
        "- We should use the t-distribution instead of the normal distribution when the sample size is small (typically less than 30) and the population standard deviation is unknown.\n",
        "\n",
        "---\n",
        "\n"
      ],
      "metadata": {
        "id": "eij0ROxoAAa_"
      }
    },
    {
      "cell_type": "markdown",
      "source": [
        "11. What is the difference between a Z-test and T-test?\n",
        "- A Z-test is used when the population standard deviation is known, and the sample size is large (generally greater than 30).\n",
        "- A T-test, on the other hand, is used when the population standard deviation is unknown, and it can be used with both small and large sample sizes.\n",
        "\n",
        "---\n",
        "\n"
      ],
      "metadata": {
        "id": "ryD0_-LWBKIa"
      }
    },
    {
      "cell_type": "markdown",
      "source": [
        "12. What is T-test, and how is it used in hypothesis testing?\n",
        "- A T-test is a statistical test used to determine if there's a significant difference between the means of two groups. It's used in hypothesis testing to compare group means, assess the impact of treatments, or determine if two samples came from the same population.\n",
        "\n",
        "---\n",
        "\n"
      ],
      "metadata": {
        "id": "bgFUBg-CCVoM"
      }
    },
    {
      "cell_type": "markdown",
      "source": [
        "13. What is the relationship between Z-test and T-test in hypothesis testing?\n",
        "- Z-tests and T-tests are both used in hypothesis testing to determine if there's a statistically significant difference between groups or variables, but they differ in their assumptions about the population standard deviation and sample size.\n",
        "- Z-tests are used when the population standard deviation is known, or when the sample size is large (n > 30), while T-tests are used when the population standard deviation is unknown, or when the sample size is small (n < 30).\n",
        "\n",
        "---\n",
        "\n"
      ],
      "metadata": {
        "id": "m-Gqu9l4Vtz-"
      }
    },
    {
      "cell_type": "markdown",
      "source": [
        "14. What is the confidence interval, and how is it used to interpret statistical results?\n",
        "- A confidence interval is a range of values used to estimate an unknown population parameter based on sample data.\n",
        "- Confidence intervals are one way to represent how \"good\" an estimate is; the larger a 90% confidence interval for a particular estimate, the more caution is required when using the estimate. Confidence intervals are an important reminder of the limitations of the estimates.\n",
        "\n",
        "---\n",
        "\n"
      ],
      "metadata": {
        "id": "dFsYaljS4Dzu"
      }
    },
    {
      "cell_type": "markdown",
      "source": [
        "15. What is the margin of error, and how does it affect the confidence interval?\n",
        "- The margin of error is a statistical measure indicating the potential difference between a sample statistic and the true population parameter, while a confidence interval provides a range within which the true population parameter is likely to fall.\n",
        "- The margin of error directly impacts the width of the confidence interval; a smaller margin of error results in a narrower confidence interval, and vice versa.\n",
        "\n",
        "---\n",
        "\n"
      ],
      "metadata": {
        "id": "Jhgfdlmv5R9W"
      }
    },
    {
      "cell_type": "markdown",
      "source": [
        "16. How is Bayes' Theorem used in statistics, and what is its significance?\n",
        "- Bayes' theorem is used in statistics to calculate conditional probabilities, which are the probabilities of events given that other events have already occurred.\n",
        "- Significance:\n",
        " * Inference and decision-making: Bayes' theorem is crucial for Bayesian inference, a statistical approach that uses prior knowledge and evidence to make predictions or draw conclusions.\n",
        " * Dealing with uncertainty: It provides a framework for incorporating uncertainty and making more informed decisions in situations where complete information is not available.\n",
        "\n",
        "---\n",
        "\n"
      ],
      "metadata": {
        "id": "YN1vrTXP5w6X"
      }
    },
    {
      "cell_type": "markdown",
      "source": [
        "17. What is the Chi-square distribution, and when is it used?\n",
        "- The chi-square distribution is a continuous probability distribution used in statistical hypothesis testing, particularly for analyzing categorical data, with two common applications being the chi-square goodness-of-fit test and the chi-square test of independence.\n",
        "- The chi-square distribution is primarily used in hypothesis testing, where you want to determine if there's a statistically significant relationship between variables or if observed data deviates significantly from expected data.\n",
        "-It can also be used to:\n",
        " * Estimate the population standard deviation from a sample standard deviation.\n",
        " * Construct confidence intervals.\n",
        " * In inferential problems dealing with variance.  \n",
        "\n",
        "---\n",
        "\n"
      ],
      "metadata": {
        "id": "BnCPE6QF7vOn"
      }
    },
    {
      "cell_type": "markdown",
      "source": [
        "18. What is the Chi-square goodness of fit test, and how is it applied?\n",
        "- The Chi-square goodness-of-fit test is a statistical test used to determine how well a sample distribution matches a hypothesized distribution or population.\n",
        "- It is used to compare observed results with expected results.\n",
        "\n",
        "---\n",
        "\n"
      ],
      "metadata": {
        "id": "qFUFdtVx9XLI"
      }
    },
    {
      "cell_type": "markdown",
      "source": [
        "19. What is the F-distribution, and when is it used in hypothesis testing?\n",
        "- The F-distribution is a continuous probability distribution used in hypothesis testing, particularly for comparing variances of two or more populations, and is commonly used in the F-test and ANOVA (Analysis of Variance).\n",
        " * Comparing Variances: The primary use of the F-distribution is in hypothesis testing when comparing variances between two or more populations.\n",
        " * F-test: The F-test is a hypothesis test that uses the F-statistic, which follows the F-distribution under the null hypothesis, to determine if there is a significant difference between the variances of two or more populations.\n",
        "\n",
        "---\n",
        "\n"
      ],
      "metadata": {
        "id": "JJzinAwu-IdC"
      }
    },
    {
      "cell_type": "markdown",
      "source": [
        "20. What is an ANOVA test, and what are its assumptions?\n",
        "- ANOVA (Analysis of Variance) is a statistical test used to compare the means of three or more groups, determining if there are significant differences between them.\n",
        "- The Key assumptions are normality, independence of observations, and homogeneity of variance, random sampling.\n",
        "\n",
        "\n",
        "---\n",
        "\n"
      ],
      "metadata": {
        "id": "cLblB06R-5T9"
      }
    },
    {
      "cell_type": "markdown",
      "source": [
        "21. What are the different types of ANOVA tests?\n",
        "- Different types of ANOVA tests:\n",
        " * One-way ANOVA: Used to compare the means of three or more independent groups. Focuses on the effect of a single independent variable (factor) on a dependent variable.\n",
        " * Two-way ANOVA: Used to evaluate the impact of two independent variables (factors) on a dependent variable and their interaction.\n",
        " * Repeated Measures ANOVA: Used to compare the means of the same group or subjects under different conditions or at different time points.\n",
        "\n",
        "\n",
        "---\n",
        "\n"
      ],
      "metadata": {
        "id": "uoi4SwVT_l1E"
      }
    },
    {
      "cell_type": "markdown",
      "source": [
        "22. What is the F-test, and how does it relate to hypothesis testing?\n",
        "- The F-test, a statistical test used in hypothesis testing, compares variances between two or more groups, using the F-statistic, which follows an F-distribution, to determine if there's a significant difference in the means of those groups.\n",
        "\n",
        "\n",
        "---\n",
        "\n",
        "\n",
        "\n",
        "---\n",
        "\n"
      ],
      "metadata": {
        "id": "rph2tC0VAaLI"
      }
    },
    {
      "cell_type": "markdown",
      "source": [
        "***Practical Part- 1***"
      ],
      "metadata": {
        "id": "YoNjg22PBUIM"
      }
    },
    {
      "cell_type": "markdown",
      "source": [
        "1. Write a Python program to generate a random variable and display its value."
      ],
      "metadata": {
        "id": "JZ952KbnCEHy"
      }
    },
    {
      "cell_type": "code",
      "execution_count": 1,
      "metadata": {
        "id": "u7hRnFb5h5jN",
        "colab": {
          "base_uri": "https://localhost:8080/"
        },
        "outputId": "08656ec5-754f-47a8-86ff-2272db820769"
      },
      "outputs": [
        {
          "output_type": "stream",
          "name": "stdout",
          "text": [
            "0.9641390117465466\n"
          ]
        }
      ],
      "source": [
        "#Import the random library\n",
        "import random\n",
        "\n",
        "n = random.random()\n",
        "print(n)"
      ]
    },
    {
      "cell_type": "markdown",
      "source": [
        "\n",
        "\n",
        "---\n",
        "\n"
      ],
      "metadata": {
        "id": "SddK1nqTFO6W"
      }
    },
    {
      "cell_type": "markdown",
      "source": [
        "2. Generate a discrete uniform distribution using Python and plot the probability mass function (PMF)."
      ],
      "metadata": {
        "id": "mBt6VnJhFQFC"
      }
    },
    {
      "cell_type": "code",
      "source": [
        "import numpy as np\n",
        "import matplotlib.pyplot as plt\n",
        "import scipy.stats as st\n",
        "# We want to display the PMF on the plot from 0 to 10\n",
        "x = np.linspace(0, 10, 701)\n",
        "plt.title = \"\"\"Probability Mass Function (PMF) of\n",
        "a Discrete Uniform Distribution\"\"\"\n",
        "pmf = st.randint.pmf(x, low=1, high=10)\n",
        "\n",
        "ax = plt.axes()\n",
        "ax.set_ylabel('Probability')\n",
        "ax.set_xlabel('Potential Value of a Die Roll')\n",
        "ax.scatter(x, pmf, c='k', lw=1, label='PMF')\n",
        "plt.show()"
      ],
      "metadata": {
        "colab": {
          "base_uri": "https://localhost:8080/",
          "height": 449
        },
        "id": "d_ij5rLsFmo-",
        "outputId": "9fe8b1c8-8a10-4429-d1ab-2d5d9da50242"
      },
      "execution_count": 9,
      "outputs": [
        {
          "output_type": "display_data",
          "data": {
            "text/plain": [
              "<Figure size 640x480 with 1 Axes>"
            ],
            "image/png": "[encoded data removed]"
          },
          "metadata": {}
        }
      ]
    },
    {
      "cell_type": "markdown",
      "source": [
        "\n",
        "\n",
        "---\n",
        "\n"
      ],
      "metadata": {
        "id": "tiRjNLeENQb-"
      }
    },
    {
      "cell_type": "markdown",
      "source": [
        "3. Write a Python function to calculate the probabilty distribution function (PDF) of a Bernoulli distribution."
      ],
      "metadata": {
        "id": "uGoAD4ehNRcs"
      }
    },
    {
      "cell_type": "code",
      "source": [
        "import numpy as np\n",
        "\n",
        "def bernoulli_pdf(x, p):\n",
        "  if x == 1:\n",
        "    return p\n",
        "  elif x == 0:\n",
        "    return 1 - p\n",
        "  else:\n",
        "    return 0  # Probability is 0 for values other than 0 or 1\n",
        "\n",
        "# Example usage:\n",
        "probability_of_success = 0.7\n",
        "probability_x_equals_1 = bernoulli_pdf(1, probability_of_success)\n",
        "probability_x_equals_0 = bernoulli_pdf(0, probability_of_success)\n",
        "\n",
        "print(f\"Probability of x=1: {probability_x_equals_1}\")\n",
        "print(f\"Probability of x=0: {probability_x_equals_0}\")\n"
      ],
      "metadata": {
        "colab": {
          "base_uri": "https://localhost:8080/"
        },
        "id": "b-BJs7miNopj",
        "outputId": "3dfbc99f-9933-455a-ca14-f43738ba3373"
      },
      "execution_count": 11,
      "outputs": [
        {
          "output_type": "stream",
          "name": "stdout",
          "text": [
            "Probability of x=1: 0.7\n",
            "Probability of x=0: 0.30000000000000004\n"
          ]
        }
      ]
    },
    {
      "cell_type": "markdown",
      "source": [
        "\n",
        "\n",
        "---\n",
        "\n"
      ],
      "metadata": {
        "id": "SyFLb1mrOI8e"
      }
    },
    {
      "cell_type": "markdown",
      "source": [
        "4. Write a Python script to stimulate a binomial distribution with n = 10 and p=0.5, then plot its histogram."
      ],
      "metadata": {
        "id": "KJ38t3qoOKJv"
      }
    },
    {
      "cell_type": "code",
      "source": [
        "import numpy as np\n",
        "import matplotlib.pyplot as plt\n",
        "\n",
        "n = 10\n",
        "p = 0.5  # Probability of success on each trial\n",
        "\n",
        "data = np.random.binomial(n, p, size=1000)\n",
        "\n",
        "# Plot the histogram\n",
        "plt.hist(data, bins=range(0, n + 2), edgecolor='black')\n",
        "plt.title = 'Binomial Distribution Where (n=10, p=0.5)'\n",
        "plt.xlabel('Number of successes')\n",
        "plt.ylabel('Frequency')\n",
        "plt.show()"
      ],
      "metadata": {
        "colab": {
          "base_uri": "https://localhost:8080/",
          "height": 449
        },
        "id": "ZTsFG558OilT",
        "outputId": "f1c9d3a1-94bb-4e40-dd7a-60ec3c6fdfa4"
      },
      "execution_count": 13,
      "outputs": [
        {
          "output_type": "display_data",
          "data": {
            "text/plain": [
              "<Figure size 640x480 with 1 Axes>"
            ],
            "image/png": "[encoded data removed]"
          },
          "metadata": {}
        }
      ]
    },
    {
      "cell_type": "markdown",
      "source": [
        "\n",
        "\n",
        "---\n",
        "\n"
      ],
      "metadata": {
        "id": "GeCXGvfXP8sR"
      }
    },
    {
      "cell_type": "markdown",
      "source": [
        "5. Create a Poisson distribution and visualize it using Python."
      ],
      "metadata": {
        "id": "S19h5Y-PP9pl"
      }
    },
    {
      "cell_type": "code",
      "source": [
        "\n",
        "from numpy import random\n",
        "import matplotlib.pyplot as plt\n",
        "import seaborn as sns\n",
        "\n",
        "x = random.poisson(lam=2, size=1000) # Creating a Poisson distribution:\n",
        "\n",
        "sns.displot(x) # Visualizing a Poisson distribution\n",
        "\n",
        "plt.show()"
      ],
      "metadata": {
        "colab": {
          "base_uri": "https://localhost:8080/",
          "height": 506
        },
        "id": "pppQq3HyQUcZ",
        "outputId": "6cf05192-88a2-4f00-ea6a-95598ef24f6d"
      },
      "execution_count": 17,
      "outputs": [
        {
          "output_type": "display_data",
          "data": {
            "text/plain": [
              "<Figure size 500x500 with 1 Axes>"
            ],
            "image/png": "[encoded data removed]"
          },
          "metadata": {}
        }
      ]
    },
    {
      "cell_type": "markdown",
      "source": [
        "\n",
        "\n",
        "---\n",
        "\n"
      ],
      "metadata": {
        "id": "sZg9BNpsReDC"
      }
    },
    {
      "cell_type": "markdown",
      "source": [
        "6. Write a Python program to calculate and plot the cumulative distribution function (CDF) of a discrete uniform distribution."
      ],
      "metadata": {
        "id": "3kYMvctWRfVK"
      }
    },
    {
      "cell_type": "code",
      "source": [
        "import numpy as np\n",
        "import matplotlib.pyplot as plt\n",
        "\n",
        "def calculate_cdf(n, a, b):\n",
        "  x = np.linspace(a, b, n)\n",
        "  cdf = np.cumsum(np.ones(n) / (b - a + 1)) / (b - a + 1)\n",
        "  return x, cdf\n",
        "\n",
        "def plot_cdf(x, cdf):\n",
        "\n",
        "  plt.plot(x, cdf, drawstyle='steps-post')\n",
        "  plt.xlabel(\"Value (x)\")\n",
        "  plt.ylabel(\"CDF (F(x))\")\n",
        "  plt.title = \"Cumulative Distribution Function of Discrete Uniform Distribution\"\n",
        "  plt.grid(True)\n",
        "  plt.show()\n",
        "\n",
        "\n",
        "if __name__ == \"__main__\":\n",
        "  n = 5  # Number of points to consider\n",
        "  a = 2   # Minimum value of the uniform distribution\n",
        "  b = 10    # Maximum value of the uniform distribution\n",
        "\n",
        "  x, cdf = calculate_cdf(n, a, b)\n",
        "  plot_cdf(x, cdf)"
      ],
      "metadata": {
        "colab": {
          "base_uri": "https://localhost:8080/",
          "height": 449
        },
        "id": "SOKY3ZIFS6Kv",
        "outputId": "aa8fb405-84de-47c8-e086-fb88572a48a8"
      },
      "execution_count": 23,
      "outputs": [
        {
          "output_type": "display_data",
          "data": {
            "text/plain": [
              "<Figure size 640x480 with 1 Axes>"
            ],
            "image/png": "[encoded data removed]"
          },
          "metadata": {}
        }
      ]
    },
    {
      "cell_type": "markdown",
      "source": [
        "\n",
        "\n",
        "---\n",
        "\n"
      ],
      "metadata": {
        "id": "zO44M27_UV1s"
      }
    },
    {
      "cell_type": "markdown",
      "source": [
        "7. Generate a continuous uniform distribution using NumPy and visualize it."
      ],
      "metadata": {
        "id": "Po8EXjaLU_0x"
      }
    },
    {
      "cell_type": "code",
      "source": [
        "import numpy as np\n",
        "import matplotlib.pyplot as plt\n",
        "\n",
        "# Generate 100 random samples from a uniform distribution between 0 and 1\n",
        "samples = np.random.uniform(0, 1, 100)\n",
        "\n",
        "# Create a histogram to visualize the distribution\n",
        "plt.hist(samples, bins=30, edgecolor='black')\n",
        "plt.title = 'Uniform Distribution'\n",
        "plt.xlabel('Value')\n",
        "plt.ylabel('Frequency')\n",
        "plt.show()"
      ],
      "metadata": {
        "colab": {
          "base_uri": "https://localhost:8080/",
          "height": 449
        },
        "id": "g82u0lT5hwSS",
        "outputId": "fb659924-90dc-4eec-cbb9-22cd9142e068"
      },
      "execution_count": 27,
      "outputs": [
        {
          "output_type": "display_data",
          "data": {
            "text/plain": [
              "<Figure size 640x480 with 1 Axes>"
            ],
            "image/png": "[encoded data removed]"
          },
          "metadata": {}
        }
      ]
    },
    {
      "cell_type": "markdown",
      "source": [
        "\n",
        "\n",
        "---\n",
        "\n"
      ],
      "metadata": {
        "id": "wA11YVd-ieP4"
      }
    },
    {
      "cell_type": "markdown",
      "source": [
        "8. Stimulate data from a normal distribution and plot its histogram."
      ],
      "metadata": {
        "id": "FFjMWW6tisSN"
      }
    },
    {
      "cell_type": "code",
      "source": [
        "import random\n",
        "import matplotlib.pyplot as plt\n",
        "N = 100\n",
        "x2 = [random.gauss(0,1) for _ in range(N)] ## this\n",
        "plt.hist(x2)"
      ],
      "metadata": {
        "colab": {
          "base_uri": "https://localhost:8080/",
          "height": 517
        },
        "id": "dHp5xuQeoD07",
        "outputId": "ae324602-2f8d-444a-881a-aa6967e55e38"
      },
      "execution_count": 28,
      "outputs": [
        {
          "output_type": "execute_result",
          "data": {
            "text/plain": [
              "(array([ 5., 11., 11., 21., 17., 18.,  6.,  9.,  0.,  2.]),\n",
              " array([-2.25985078, -1.73032076, -1.20079074, -0.67126072, -0.14173071,\n",
              "         0.38779931,  0.91732933,  1.44685935,  1.97638937,  2.50591939,\n",
              "         3.03544941]),\n",
              " <BarContainer object of 10 artists>)"
            ]
          },
          "metadata": {},
          "execution_count": 28
        },
        {
          "output_type": "display_data",
          "data": {
            "text/plain": [
              "<Figure size 640x480 with 1 Axes>"
            ],
            "image/png": "[encoded data removed]"
          },
          "metadata": {}
        }
      ]
    },
    {
      "cell_type": "markdown",
      "source": [
        "\n",
        "\n",
        "---\n",
        "\n"
      ],
      "metadata": {
        "id": "mh3RSwL40tYi"
      }
    },
    {
      "cell_type": "markdown",
      "source": [
        "9. Write a Python function to calculate Z-scores from a datasets and plot them."
      ],
      "metadata": {
        "id": "IWE9FfOM0uji"
      }
    },
    {
      "cell_type": "code",
      "source": [
        "import numpy as np\n",
        "import matplotlib.pyplot as plt\n",
        "from scipy import stats\n",
        "\n",
        "def calculate_and_plot_zscores(data):\n",
        "  # Calculate Z-scores using SciPy's zscore function\n",
        "  z_scores = stats.zscore(data)\n",
        "\n",
        "  # Plotting the Z-scores\n",
        "  plt.figure(figsize=(10, 6))\n",
        "  plt.plot(data, z_scores, marker='o', linestyle='-')  # Use original data for x-axis\n",
        "  plt.title = 'Z-scores of Data'\n",
        "  plt.xlabel('Original Data Value')\n",
        "  plt.ylabel('Z-score')\n",
        "  plt.grid(True)  # Add grid lines for readability\n",
        "  plt.show() # Display the plot\n",
        "\n",
        "sample_data = [1, 11, 12, 30, 25, 40, 45, 8, 60]\n",
        "calculate_and_plot_zscores(sample_data)"
      ],
      "metadata": {
        "colab": {
          "base_uri": "https://localhost:8080/",
          "height": 547
        },
        "id": "bR2xzt5X0-pn",
        "outputId": "a7504fc9-cd2e-45f8-e4ef-d317274adfa2"
      },
      "execution_count": 31,
      "outputs": [
        {
          "output_type": "display_data",
          "data": {
            "text/plain": [
              "<Figure size 1000x600 with 1 Axes>"
            ],
            "image/png": "[encoded data removed]"
          },
          "metadata": {}
        }
      ]
    },
    {
      "cell_type": "markdown",
      "source": [
        "\n",
        "\n",
        "---\n",
        "\n"
      ],
      "metadata": {
        "id": "L6ZVqlL3098S"
      }
    },
    {
      "cell_type": "markdown",
      "source": [
        "10. Implement the Central Limit Theorem (CLT) using Python for a non-normal distribution."
      ],
      "metadata": {
        "id": "RkASyisC16Ei"
      }
    },
    {
      "cell_type": "code",
      "source": [
        "import numpy as np\n",
        "import seaborn as sns\n",
        "import statistics as stat\n",
        "x = np.random.normal(size=5000) # at default parameters, will be \"standard\" normal distribution\n",
        "sns.displot(x)"
      ],
      "metadata": {
        "colab": {
          "base_uri": "https://localhost:8080/",
          "height": 523
        },
        "id": "-eOprL7l2P31",
        "outputId": "f1bb9200-974c-4830-894c-8f85954b077f"
      },
      "execution_count": 33,
      "outputs": [
        {
          "output_type": "execute_result",
          "data": {
            "text/plain": [
              "<seaborn.axisgrid.FacetGrid at 0x7e6927474b10>"
            ]
          },
          "metadata": {},
          "execution_count": 33
        },
        {
          "output_type": "display_data",
          "data": {
            "text/plain": [
              "<Figure size 500x500 with 1 Axes>"
            ],
            "image/png": "[encoded data removed]"
          },
          "metadata": {}
        }
      ]
    },
    {
      "cell_type": "markdown",
      "source": [
        "\n",
        "\n",
        "---\n",
        "\n"
      ],
      "metadata": {
        "id": "cX6qmwhPQ-fd"
      }
    },
    {
      "cell_type": "markdown",
      "source": [
        "15. Stimulate multiple samples from a normal distribution and verify the Central Limit Theorem."
      ],
      "metadata": {
        "id": "BeADbsvgQ_-S"
      }
    },
    {
      "cell_type": "code",
      "source": [
        "import numpy as np\n",
        "import matplotlib.pyplot as plt\n",
        "\n",
        "m = 0\n",
        "sd = 1\n",
        "sample_size = 20\n",
        "num_of_samples = 1000\n",
        "\n",
        "samples = np.random.normal(m, sd, size=(num_of_samples, sample_size)) # Generate random samples\n",
        "\n",
        "sample_means = np.mean(samples, axis=1) # Calculate sample means\n",
        "\n",
        "plt.hist(sample_means, bins=50, density=True, alpha=0.7, label='Sample Means') # Plot the distribution of sample means\n",
        "\n",
        "x = np.linspace(-3, 3, 50) # Plot the distribution of sample means\n",
        "\n",
        "plt.plot(x, 1/(sd * np.sqrt(2 * np.pi)) * np.exp(-(x - m)**2 / (2 * sd**2 / sample_size)),\n",
        "         label='Theoretical Normal Distribution', color='red')\n",
        "\n",
        "plt.xlabel('Sample Mean')\n",
        "plt.ylabel('Density')\n",
        "plt.title = 'Distribution of Sample Means (Central Limit Theorem)'\n",
        "plt.legend()\n",
        "plt.show()"
      ],
      "metadata": {
        "colab": {
          "base_uri": "https://localhost:8080/",
          "height": 449
        },
        "id": "g3JBFz7GRo5U",
        "outputId": "e003044b-f000-4709-a0e2-a054d10fb377"
      },
      "execution_count": 38,
      "outputs": [
        {
          "output_type": "display_data",
          "data": {
            "text/plain": [
              "<Figure size 640x480 with 1 Axes>"
            ],
            "image/png": "[encoded data removed]"
          },
          "metadata": {}
        }
      ]
    },
    {
      "cell_type": "markdown",
      "source": [
        "\n",
        "\n",
        "---\n",
        "\n"
      ],
      "metadata": {
        "id": "UH14w0PdTOml"
      }
    },
    {
      "cell_type": "markdown",
      "source": [
        "16. Write a Python function to calculate and plot the standard normal distribution (mean = 0, std =1)."
      ],
      "metadata": {
        "id": "Yl_9GqirTYod"
      }
    },
    {
      "cell_type": "code",
      "source": [
        "import numpy as np\n",
        "import matplotlib.pyplot as plt\n",
        "\n",
        "def plot_standard_normal_distribution():\n",
        "  x = np.arange(-4, 4, 0.01)# Step 1: Calculate x values\n",
        "  y = (1 / np.sqrt(2 * np.pi)) * np.exp(-0.5 * x**2) # Step 2: Calculate the standard normal distribution\n",
        "  plt.plot(x, y)  # Step 3: Plot the std normal distribution\n",
        "  plt.title = 'Standard Normal Distribution'\n",
        "  plt.xlabel('x')\n",
        "  plt.ylabel('Probability Density')\n",
        "  plt.grid(True)\n",
        "  plt.show()\n",
        "\n",
        "plot_standard_normal_distribution()"
      ],
      "metadata": {
        "colab": {
          "base_uri": "https://localhost:8080/",
          "height": 449
        },
        "id": "tH7l6ksxTX6X",
        "outputId": "bb80ff98-2b50-4b44-e1be-78420f82aeb0"
      },
      "execution_count": 39,
      "outputs": [
        {
          "output_type": "display_data",
          "data": {
            "text/plain": [
              "<Figure size 640x480 with 1 Axes>"
            ],
            "image/png": "[encoded data removed]"
          },
          "metadata": {}
        }
      ]
    },
    {
      "cell_type": "markdown",
      "source": [
        "\n",
        "\n",
        "---\n",
        "\n"
      ],
      "metadata": {
        "id": "YDtOL8sjUlqu"
      }
    },
    {
      "cell_type": "markdown",
      "source": [
        "17. Generate random variable and calculate their corresponding probabilities using the binomial distribution."
      ],
      "metadata": {
        "id": "bNZdnD4lUnAy"
      }
    },
    {
      "cell_type": "code",
      "source": [
        "import numpy as np\n",
        "from scipy.stats import binom\n",
        "import matplotlib.pyplot as plt\n",
        "\n",
        "# Parameters of the binomial distribution\n",
        "n = 10  # Number of trials\n",
        "p = 0.5  # Probability of success on a single trial\n",
        "\n",
        "random_samples = binom.rvs(n, p, size=500) # Generate a random sample of size 1000\n",
        "\n",
        "probabilities = binom.pmf(random_samples, n, p) # Calculate the probability mass function (PMF) for each value in the sample\n",
        "\n",
        "\n",
        "# Print some examples\n",
        "print(\"Random Sample:\", random_samples[:5])\n",
        "print(\"Corresponding Probabilities:\", probabilities[:5])\n",
        "\n",
        "# You can analyze the results further, e.g., calculate the mean, variance, or plot a histogram\n",
        "print(\"Mean of the random samples:\", np.mean(random_samples))\n",
        "print(\"Variance of the random samples:\", np.var(random_samples))"
      ],
      "metadata": {
        "colab": {
          "base_uri": "https://localhost:8080/"
        },
        "id": "t6dL-__WU65X",
        "outputId": "c5cf3517-b0d6-49b9-b4b3-e2e619753c4e"
      },
      "execution_count": 40,
      "outputs": [
        {
          "output_type": "stream",
          "name": "stdout",
          "text": [
            "Random Sample: [5 7 3 4 5]\n",
            "Corresponding Probabilities: [0.24609375 0.1171875  0.1171875  0.20507812 0.24609375]\n",
            "Mean of the random samples: 5.13\n",
            "Variance of the random samples: 2.5291000000000006\n"
          ]
        }
      ]
    },
    {
      "cell_type": "markdown",
      "source": [
        "\n",
        "\n",
        "---\n",
        "\n"
      ],
      "metadata": {
        "id": "nIZO80MXV5p6"
      }
    },
    {
      "cell_type": "markdown",
      "source": [
        "18. Write a Python program to calculate the Z-score for a given data point and compare it to a standard normal distribution."
      ],
      "metadata": {
        "id": "nEVKb_vIV646"
      }
    },
    {
      "cell_type": "code",
      "source": [
        "import scipy.stats as stats\n",
        "import numpy as np\n",
        "\n",
        "def calculate_z_score(data_point, mean, standard_deviation):\n",
        "  z_score = (data_point - mean) / standard_deviation\n",
        "  return z_score\n",
        "\n",
        "def compare_z_score_to_standard_normal(z_score):\n",
        "  cdf = stats.norm.cdf(z_score)\n",
        "  sf = 1 - cdf\n",
        "\n",
        "  print(f\"Probability of observing a value less than or equal to z = {z_score}: {cdf}\")\n",
        "  print(f\"Probability of observing a value greater than or equal to z = {z_score}: {sf}\")\n",
        "\n",
        "data_point = 10\n",
        "mean = 5\n",
        "standard_deviation = 2\n",
        "\n",
        "z_score = calculate_z_score(data_point, mean, standard_deviation)\n",
        "print(f\"The Z-score for {data_point} is: {z_score}\")\n",
        "\n",
        "compare_z_score_to_standard_normal(z_score)"
      ],
      "metadata": {
        "colab": {
          "base_uri": "https://localhost:8080/"
        },
        "id": "lAcfTNVFWmpr",
        "outputId": "00e02773-8ab8-4a15-c082-d3fabc5297be"
      },
      "execution_count": 41,
      "outputs": [
        {
          "output_type": "stream",
          "name": "stdout",
          "text": [
            "The Z-score for 10 is: 2.5\n",
            "Probability of observing a value less than or equal to z = 2.5: 0.9937903346742238\n",
            "Probability of observing a value greater than or equal to z = 2.5: 0.006209665325776159\n"
          ]
        }
      ]
    },
    {
      "cell_type": "markdown",
      "source": [
        "\n",
        "\n",
        "---\n",
        "\n"
      ],
      "metadata": {
        "id": "DireyGgSW-jk"
      }
    },
    {
      "cell_type": "markdown",
      "source": [
        "19. Implement hypothesis testing using Z-statistics for a sample dataset."
      ],
      "metadata": {
        "id": "YwYN48i7hDPV"
      }
    },
    {
      "cell_type": "code",
      "source": [
        "# Formula for z-statistics z = (x̄ - μ) / (σ / √n)\n",
        "import numpy as np\n",
        "import random\n",
        "from statsmodels.stats.weightstats import ztest as ztest\n",
        "\n",
        "random.seed(30) # to reproduce the sample random values\n",
        "\n",
        "# Null Hypothesis: Mean of a = mean of b\n",
        "a = [random.gauss(150, 10) for x in range(40)] # Two Sample Z-test for samples 'a' and 'b'\n",
        "b = [random.gauss(110, 10) for x in range(40)]\n",
        "\n",
        "z_stat, p_value = ztest(a, b, value=0)\n",
        "\n",
        "print(\"Z-statistic:\", z_stat)\n",
        "print(\"P-value:\", p_value)\n",
        "print(np.mean(a), np.mean(b))"
      ],
      "metadata": {
        "colab": {
          "base_uri": "https://localhost:8080/"
        },
        "id": "b4q973osXekE",
        "outputId": "b97f1603-1da0-44cc-ee0e-3a8942dd1f5a"
      },
      "execution_count": 43,
      "outputs": [
        {
          "output_type": "stream",
          "name": "stdout",
          "text": [
            "Z-statistic: 18.29845376943408\n",
            "P-value: 8.513084223706053e-75\n",
            "151.3750156363361 107.67062119459544\n"
          ]
        }
      ]
    },
    {
      "cell_type": "markdown",
      "source": [
        "\n",
        "\n",
        "---\n",
        "\n"
      ],
      "metadata": {
        "id": "axSWsEqKhyus"
      }
    },
    {
      "cell_type": "markdown",
      "source": [
        "20. Create a confidence interval for a dataset using Python and interpret the result."
      ],
      "metadata": {
        "id": "fc-eIzgLh9hF"
      }
    },
    {
      "cell_type": "code",
      "source": [
        "import numpy as np\n",
        "from scipy.stats import t\n",
        "import matplotlib.pyplot as plt\n",
        "\n",
        "data = np.array([10, 20, 30, 40, 50, 60, 70, 80, 90]) # Sample data\n",
        "\n",
        "confidence_level = 0.95\n",
        "sample_mean = np.mean(data) # Calculate sample mean\n",
        "sample_std = np.std(data, ddof=1)  # ddof=1 for sample standard deviation\n",
        "\n",
        "sample_size = len(data) # Sample size\n",
        "degrees_of_freedom = sample_size - 1\n",
        "\n",
        "t_critical = t.ppf(1 - (1 - confidence_level) / 2, degrees_of_freedom) # Find the critical value (t-score) for the given confidence level and degrees of freedom\n",
        "standard_error = sample_std / np.sqrt(sample_size) # Calculate the standard error of the mean\n",
        "margin_of_error = t_critical * standard_error # Calculate the margin of error\n",
        "lower_bound = sample_mean - margin_of_error # Calculate the confidence interval\n",
        "upper_bound = sample_mean + margin_of_error\n",
        "\n",
        "# Print the results\n",
        "print(f\"Sample Mean: {sample_mean:.2f}\")\n",
        "print(f\"95% Confidence Interval: ({lower_bound:.2f}, {upper_bound:.2f})\")\n",
        "\n",
        "# Interpretation:\n",
        "# With 95% confidence, we can say that the true population mean (average value) is likely to fall between the calculated lower and upper bounds."
      ],
      "metadata": {
        "colab": {
          "base_uri": "https://localhost:8080/"
        },
        "id": "fl7ABPqhiPrJ",
        "outputId": "57114d8c-8549-4de1-9fda-e01ecb95b7d2"
      },
      "execution_count": 45,
      "outputs": [
        {
          "output_type": "stream",
          "name": "stdout",
          "text": [
            "Sample Mean: 50.00\n",
            "95% Confidence Interval: (28.95, 71.05)\n"
          ]
        }
      ]
    },
    {
      "cell_type": "markdown",
      "source": [
        "\n",
        "\n",
        "---\n",
        "\n"
      ],
      "metadata": {
        "id": "pKvlxtmajRqp"
      }
    },
    {
      "cell_type": "markdown",
      "source": [
        "21. Generate data from a normal distribution, then calculate and interpret the confidence level for its mean."
      ],
      "metadata": {
        "id": "cHQ1b22ujTjB"
      }
    },
    {
      "cell_type": "code",
      "source": [
        "import numpy as np\n",
        "from scipy import stats\n",
        "\n",
        "mean = 50\n",
        "std_dev = 10\n",
        "sample_size = 100\n",
        "data = np.random.normal(mean, std_dev, sample_size) # 1. Generate data from a normal distribution\n",
        "\n",
        "confidence_level = 0.95\n",
        "z_critical = stats.norm.ppf(confidence_level)  # Get the z-score for the confidence level\n",
        "standard_error = std_dev / np.sqrt(sample_size)\n",
        "margin_of_error = z_critical * standard_error\n",
        "confidence_interval = (np.mean(data) - margin_of_error, np.mean(data) + margin_of_error) # 2. Calculate the confidence interval\n",
        "\n",
        "print(f\"Sample Mean: {np.mean(data)}\")\n",
        "print(\"Confidence Interval: \", confidence_interval)"
      ],
      "metadata": {
        "colab": {
          "base_uri": "https://localhost:8080/"
        },
        "id": "HFEsBfqnjv-n",
        "outputId": "656a3785-6448-4b54-ecd4-47e7e178be36"
      },
      "execution_count": 52,
      "outputs": [
        {
          "output_type": "stream",
          "name": "stdout",
          "text": [
            "Sample Mean: 51.05372096108224\n",
            "Confidence Interval:  (np.float64(49.40886733413077), np.float64(52.698574588033715))\n"
          ]
        }
      ]
    },
    {
      "cell_type": "markdown",
      "source": [
        "\n",
        "\n",
        "---\n",
        "\n"
      ],
      "metadata": {
        "id": "C_kER055l3qu"
      }
    },
    {
      "cell_type": "markdown",
      "source": [
        "22. Write a Python script to calculate and visualize the probability density function (PDF) of a normal distribution."
      ],
      "metadata": {
        "id": "_upTzaFll5O-"
      }
    },
    {
      "cell_type": "code",
      "source": [
        "import numpy as np\n",
        "import pandas as pd\n",
        "from pandas import DataFrame\n",
        "import matplotlib.pyplot as plt\n",
        "import scipy.stats as stats\n",
        "\n",
        "x = np.random.normal(50, 3, 1000)\n",
        "source = {\"Genotype\": [\"CV1\"]*1000, \"AGW\": x}\n",
        "df=pd.DataFrame(source)\n",
        "\n",
        "df.sort_values(by=['AGW'], inplace=True)\n",
        "df_mean = np.mean(df[\"AGW\"])\n",
        "df_std = np.std(df[\"AGW\"])\n",
        "pdf = stats.norm.pdf(df[\"AGW\"], df_mean, df_std)\n",
        "\n",
        "plt.plot(df[\"AGW\"], pdf)"
      ],
      "metadata": {
        "colab": {
          "base_uri": "https://localhost:8080/",
          "height": 447
        },
        "id": "NKP7fPjqmnOV",
        "outputId": "ee33e065-7742-4497-bf7f-66d15d61fc14"
      },
      "execution_count": 53,
      "outputs": [
        {
          "output_type": "execute_result",
          "data": {
            "text/plain": [
              "[<matplotlib.lines.Line2D at 0x7e6925169bd0>]"
            ]
          },
          "metadata": {},
          "execution_count": 53
        },
        {
          "output_type": "display_data",
          "data": {
            "text/plain": [
              "<Figure size 640x480 with 1 Axes>"
            ],
            "image/png": "[encoded data removed]"
          },
          "metadata": {}
        }
      ]
    },
    {
      "cell_type": "markdown",
      "source": [
        "\n",
        "\n",
        "---\n",
        "\n"
      ],
      "metadata": {
        "id": "J-mJAI2X1h1h"
      }
    },
    {
      "cell_type": "markdown",
      "source": [
        "23. Use Python to calculate and interpret the cumulative distribution function (CDF) of a Poisson distribution."
      ],
      "metadata": {
        "id": "LmMfl-Jz1jau"
      }
    },
    {
      "cell_type": "code",
      "source": [
        "import scipy.stats as stats\n",
        "\n",
        "l = 5 # Define the mean (lambda) of the Poisson distribution\n",
        "\n",
        "x_values = [10, 11, 12, 13, 14, 15, 16, 17, 18, 19, 20] # Calculate the CDF at different values\n",
        "cdf_values = [stats.poisson.cdf(x, l) for x in x_values]\n",
        "\n",
        "# Print the results\n",
        "print(f\"lambda = {l}\")\n",
        "for x, cdf_value in zip(x_values, cdf_values):\n",
        "    print(f\"P(X <= {x}) = {cdf_value:.4f}\")"
      ],
      "metadata": {
        "colab": {
          "base_uri": "https://localhost:8080/"
        },
        "id": "fZfGFSqj1-fk",
        "outputId": "159222a7-cda2-4f87-a391-e3d7b72fe38c"
      },
      "execution_count": 56,
      "outputs": [
        {
          "output_type": "stream",
          "name": "stdout",
          "text": [
            "lambda = 5\n",
            "P(X <= 10) = 0.9863\n",
            "P(X <= 11) = 0.9945\n",
            "P(X <= 12) = 0.9980\n",
            "P(X <= 13) = 0.9993\n",
            "P(X <= 14) = 0.9998\n",
            "P(X <= 15) = 0.9999\n",
            "P(X <= 16) = 1.0000\n",
            "P(X <= 17) = 1.0000\n",
            "P(X <= 18) = 1.0000\n",
            "P(X <= 19) = 1.0000\n",
            "P(X <= 20) = 1.0000\n"
          ]
        }
      ]
    },
    {
      "cell_type": "markdown",
      "source": [
        "\n",
        "\n",
        "---\n",
        "\n"
      ],
      "metadata": {
        "id": "Bi7gNlg12b4Q"
      }
    },
    {
      "cell_type": "markdown",
      "source": [
        "24. Stimulate a random variable using a continuous unifom distribution and calculate its expected value."
      ],
      "metadata": {
        "id": "CHqgkkL52c92"
      }
    },
    {
      "cell_type": "code",
      "source": [
        "import numpy as np\n",
        "import matplotlib.pyplot as plt\n",
        "# range of the uniform distribution\n",
        "a = 0  # Minimum value\n",
        "b = 1  # Maximum value\n",
        "\n",
        "num_samples = 500  # Number of random samples to generate\n",
        "\n",
        "# Generate random numbers from a uniform distribution\n",
        "uniform_data = np.random.uniform(a, b, num_samples)\n",
        "\n",
        "# Calculate the expected value\n",
        "expected_value = np.mean(uniform_data)\n",
        "\n",
        "# Verify the theoretical expected value\n",
        "theoretical_expected_value = (a + b) / 2\n",
        "\n",
        "# Print the results\n",
        "print(f\"Simulated Expected Value: {expected_value}\")\n",
        "print(f\"Theoretical Expected Value: {theoretical_expected_value}\")\n"
      ],
      "metadata": {
        "colab": {
          "base_uri": "https://localhost:8080/"
        },
        "id": "JwItqlzF2vBb",
        "outputId": "07afbaeb-c2db-4ef1-94cd-4b3921039125"
      },
      "execution_count": 57,
      "outputs": [
        {
          "output_type": "stream",
          "name": "stdout",
          "text": [
            "Simulated Expected Value: 0.5002035908569508\n",
            "Theoretical Expected Value: 0.5\n"
          ]
        }
      ]
    },
    {
      "cell_type": "markdown",
      "source": [
        "\n",
        "\n",
        "---\n",
        "\n"
      ],
      "metadata": {
        "id": "-StAa3E83EWb"
      }
    },
    {
      "cell_type": "markdown",
      "source": [
        "25. Write a Python program to compare the standard deviations of two datasets and visualize the difference."
      ],
      "metadata": {
        "id": "UbbAf0FG3FyT"
      }
    },
    {
      "cell_type": "code",
      "source": [
        "import numpy as np\n",
        "import matplotlib.pyplot as plt\n",
        "\n",
        "# Sample data for two datasets\n",
        "data1 = [11, 13, 17, 19, 21, 10, 13, 16, 19, 22]\n",
        "data2 = [5, 7, 9, 11, 13, 6, 8, 10, 12, 14]\n",
        "\n",
        "# Calculate standard deviations\n",
        "std_dev1 = np.std(data1)\n",
        "std_dev2 = np.std(data2)\n",
        "\n",
        "# Print the results\n",
        "print(\"Standard deviation of data1:\", std_dev1)\n",
        "print(\"Standard deviation of data2:\", std_dev2)\n",
        "\n",
        "# Visualize the difference using a bar chart\n",
        "labels = [\"Dataset 1\", \"Dataset 2\"]\n",
        "std_deviations = [std_dev1, std_dev2]\n",
        "\n",
        "# Create the bar chart\n",
        "plt.bar(labels, std_deviations, color=['blue', 'green'])\n",
        "plt.ylabel(\"Standard Deviation\")\n",
        "plt.title = \"Comparison of Standard Deviations\"\n",
        "plt.show()\n"
      ],
      "metadata": {
        "colab": {
          "base_uri": "https://localhost:8080/",
          "height": 465
        },
        "id": "ZmfztsRL3bnD",
        "outputId": "03f24358-9a7b-45bc-a2bf-0d643c71b379"
      },
      "execution_count": 59,
      "outputs": [
        {
          "output_type": "stream",
          "name": "stdout",
          "text": [
            "Standard deviation of data1: 3.9862262855989496\n",
            "Standard deviation of data2: 2.8722813232690143\n"
          ]
        },
        {
          "output_type": "display_data",
          "data": {
            "text/plain": [
              "<Figure size 640x480 with 1 Axes>"
            ],
            "image/png": "[encoded data removed]"
          },
          "metadata": {}
        }
      ]
    },
    {
      "cell_type": "markdown",
      "source": [
        "\n",
        "\n",
        "---\n",
        "\n"
      ],
      "metadata": {
        "id": "RrNY4yap3sK0"
      }
    },
    {
      "cell_type": "markdown",
      "source": [
        "26. Calculate the range and interquartile range (IQR) of a dataset generated from a normal distribution."
      ],
      "metadata": {
        "id": "gcrH8A0r3tNw"
      }
    },
    {
      "cell_type": "code",
      "source": [
        "import numpy as np\n",
        "import scipy.stats as stats\n",
        "\n",
        "# Generate a sample dataset from a normal distribution\n",
        "mean = 10\n",
        "std_dev = 2\n",
        "sample_size = 100\n",
        "data = np.random.normal(mean, std_dev, sample_size)\n",
        "\n",
        "# Calculate the range\n",
        "min_value = np.min(data)\n",
        "max_value = np.max(data)\n",
        "range_ = max_value - min_value\n",
        "\n",
        "# Calculate the interquartile range (IQR)\n",
        "Q1 = np.quantile(data, 0.25)  # (25th percentile)\n",
        "Q3 = np.quantile(data, 0.75)  # (75th percentile)\n",
        "iqr = Q3 - Q1\n",
        "\n",
        "print(\"Range:\", range_)\n",
        "print(\"IQR:\", iqr)"
      ],
      "metadata": {
        "colab": {
          "base_uri": "https://localhost:8080/"
        },
        "id": "VfCs3yfd4HZc",
        "outputId": "dacd9072-4dbe-443c-d998-eb5a55db9b37"
      },
      "execution_count": 60,
      "outputs": [
        {
          "output_type": "stream",
          "name": "stdout",
          "text": [
            "Range: 9.737099170745514\n",
            "IQR: 2.3409182022922064\n"
          ]
        }
      ]
    },
    {
      "cell_type": "markdown",
      "source": [
        "\n",
        "\n",
        "---\n",
        "\n"
      ],
      "metadata": {
        "id": "hWyArkR44ajO"
      }
    },
    {
      "cell_type": "markdown",
      "source": [
        "27. Implement Z-score normalization on a dataset and visualize its transformation."
      ],
      "metadata": {
        "id": "H4VqDwvc4cOG"
      }
    },
    {
      "cell_type": "code",
      "source": [
        "data = np.array([[12, 2000],\n",
        "                 [15, 3000],\n",
        "                 [20, 5000],\n",
        "                 [25, 6000],\n",
        "                 [30, 7000]])\n",
        "\n",
        "# Calculate the mean and standard deviation for each column (feature)\n",
        "mean = np.mean(data, axis=0)\n",
        "std_dev = np.std(data, axis=0)\n",
        "\n",
        "normalized_data = (data - mean) / std_dev # Apply Z-score normalization: Z = (X - mean) / std_dev\n",
        "\n",
        "print(f\"Original Data:{data}\")\n",
        "print(f\"\\nMean:{mean}\")\n",
        "print(f\"Standard Deviation:{std_dev}\")\n",
        "print(f\"\\nNormalized Data:{normalized_data}\")"
      ],
      "metadata": {
        "colab": {
          "base_uri": "https://localhost:8080/"
        },
        "id": "N6OFo5PP4rmE",
        "outputId": "4f121cf3-9d3f-4486-eca0-a1b253ca798a"
      },
      "execution_count": 61,
      "outputs": [
        {
          "output_type": "stream",
          "name": "stdout",
          "text": [
            "Original Data:[[  12 2000]\n",
            " [  15 3000]\n",
            " [  20 5000]\n",
            " [  25 6000]\n",
            " [  30 7000]]\n",
            "\n",
            "Mean:[  20.4 4600. ]\n",
            "Standard Deviation:[   6.52993109 1854.7236991 ]\n",
            "\n",
            "Normalized Data:[[-1.28638417 -1.40182605]\n",
            " [-0.82696125 -0.86266219]\n",
            " [-0.06125639  0.21566555]\n",
            " [ 0.70444848  0.75482941]\n",
            " [ 1.47015334  1.29399328]]\n"
          ]
        }
      ]
    },
    {
      "cell_type": "markdown",
      "source": [
        "\n",
        "\n",
        "---\n",
        "\n"
      ],
      "metadata": {
        "id": "4AukPMyX5wwB"
      }
    },
    {
      "cell_type": "markdown",
      "source": [
        "28. Write a Python function to calculate the skewness and kurtosis of a dataset generated from a normal distribution."
      ],
      "metadata": {
        "id": "5ISF98WJ5x88"
      }
    },
    {
      "cell_type": "code",
      "source": [
        "import numpy as np\n",
        "import scipy.stats as stats\n",
        "\n",
        "def calculate_skewness_and_kurtosis(data):\n",
        "  if not isinstance(data, (np.ndarray, list)):\n",
        "      raise TypeError(\"Input data must be a numpy array or list.\")\n",
        "\n",
        "  data = np.array(data) # Convert to numpy array for easier calculations\n",
        "  if data.size < 3:\n",
        "      raise ValueError(\"Dataset must have at least 3 elements to calculate skewness and kurtosis.\")\n",
        "\n",
        "  skewness = stats.skew(data)\n",
        "  kurtosis = stats.kurtosis(data)\n",
        "\n",
        "  return skewness, kurtosis\n",
        "\n",
        "if __name__ == \"__main__\":\n",
        "    data = np.random.normal(0, 1, 1000) # Generate a sample of 1000 normally distributed values\n",
        "\n",
        "    skew, kurt = calculate_skewness_and_kurtosis(data)\n",
        "\n",
        "    print(f\"Skewness: {skew}\")\n",
        "    print(f\"Kurtosis: {kurt}\")"
      ],
      "metadata": {
        "colab": {
          "base_uri": "https://localhost:8080/"
        },
        "id": "8iEiwmLE6F4T",
        "outputId": "5e19267d-2803-486d-ba72-ed1e380ab411"
      },
      "execution_count": 62,
      "outputs": [
        {
          "output_type": "stream",
          "name": "stdout",
          "text": [
            "Skewness: -0.028214905227872206\n",
            "Kurtosis: -0.007875463279573669\n"
          ]
        }
      ]
    },
    {
      "cell_type": "markdown",
      "source": [
        "\n",
        "\n",
        "---\n",
        "\n",
        "\n",
        "\n",
        "---\n",
        "\n"
      ],
      "metadata": {
        "id": "z16kHkfZ6UoK"
      }
    },
    {
      "cell_type": "markdown",
      "source": [
        "***Practical Part 2***"
      ],
      "metadata": {
        "id": "ZuI7MiBU6WN6"
      }
    },
    {
      "cell_type": "markdown",
      "source": [
        "1. Write a Python program to perform a Z-test for comparing a sample mean to a known population mean and interpret the results."
      ],
      "metadata": {
        "id": "lVYVWW9T6apj"
      }
    },
    {
      "cell_type": "code",
      "source": [
        "import scipy.stats as stats\n",
        "import math\n",
        "\n",
        "def perform_z_test(sample_mean, population_mean, population_std_dev, sample_size, alpha=0.05):\n",
        "    # 1. Calculate the Z-score\n",
        "    z_score = (sample_mean - population_mean) / (population_std_dev / math.sqrt(sample_size))\n",
        "\n",
        "    # 2. Calculate the p-value (two-tailed test)\n",
        "    p_value = stats.norm.sf(abs(z_score)) * 2\n",
        "\n",
        "    # 3. Determine the conclusion\n",
        "    if p_value < alpha:\n",
        "        conclusion = \"Reject the null hypothesis. There is a statistically significant difference between the sample mean and the population mean.\"\n",
        "    else:\n",
        "        conclusion = \"Fail to reject the null hypothesis. There is no statistically significant difference between the sample mean and the population mean.\"\n",
        "\n",
        "    return {\n",
        "        \"z_score\": z_score,\n",
        "        \"p_value\": p_value,\n",
        "        \"conclusion\": conclusion\n",
        "    }\n",
        "\n",
        "# Example Usage\n",
        "sample_mean = 52  # Replace with your sample mean\n",
        "population_mean = 50  # Replace with your known population mean\n",
        "population_std_dev = 10  # Replace with your known population standard deviation\n",
        "sample_size = 30  # Replace with your sample size\n",
        "\n",
        "results = perform_z_test(sample_mean, population_mean, population_std_dev, sample_size)\n",
        "\n",
        "print(\"Z-score:\", results[\"z_score\"])\n",
        "print(\"P-value:\", results[\"p_value\"])\n",
        "print(\"Conclusion:\", results[\"conclusion\"])"
      ],
      "metadata": {
        "colab": {
          "base_uri": "https://localhost:8080/"
        },
        "id": "J3gVf8YA7Mk0",
        "outputId": "e33febd2-438d-4b24-c8e8-6800c17a1f92"
      },
      "execution_count": 63,
      "outputs": [
        {
          "output_type": "stream",
          "name": "stdout",
          "text": [
            "Z-score: 1.0954451150103321\n",
            "P-value: 0.27332167829229814\n",
            "Conclusion: Fail to reject the null hypothesis. There is no statistically significant difference between the sample mean and the population mean.\n"
          ]
        }
      ]
    }
  ]
}