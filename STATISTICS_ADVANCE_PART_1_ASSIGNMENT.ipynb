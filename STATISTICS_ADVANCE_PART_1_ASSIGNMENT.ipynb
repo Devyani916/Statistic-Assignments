{
  "nbformat": 4,
  "nbformat_minor": 0,
  "metadata": {
    "colab": {
      "provenance": [],
      "authorship_tag": "ABX9TyMGdmuvUpr7tD5dhm04f/dy",
      "include_colab_link": true
    },
    "kernelspec": {
      "name": "python3",
      "display_name": "Python 3"
    },
    "language_info": {
      "name": "python"
    }
  },
  "cells": [
    {
      "cell_type": "markdown",
      "metadata": {
        "id": "view-in-github",
        "colab_type": "text"
      },
      "source": [
        "<a href=\"https://colab.research.google.com/github/Devyani916/Statistic-Assignments/blob/main/STATISTICS_ADVANCE_PART_1_ASSIGNMENT.ipynb\" target=\"_parent\"><img src=\"https://colab.research.google.com/assets/colab-badge.svg\" alt=\"Open In Colab\"/></a>"
      ]
    },
    {
      "cell_type": "markdown",
      "source": [
        "**STATISTICS ADVANCE PART 1 ASSIGNMENT**"
      ],
      "metadata": {
        "id": "puXf_MJEqw59"
      }
    },
    {
      "cell_type": "markdown",
      "source": [
        "1. What is a random variable in probability theory?\n",
        "- A random variable is a function that maps the outcomes of a random experiment to a set of real numbers, allowing us to quantify and analyze these outcomes. Random variables are typically denoted by capital letters (e.g., X, Y, Z).\n",
        "\n",
        "---\n",
        "\n"
      ],
      "metadata": {
        "id": "Am818VgTq8cR"
      }
    },
    {
      "cell_type": "markdown",
      "source": [
        "2. What are the types of random variables?\n",
        "- There are two main types of random variables, they are as below:\n",
        " * Discrete: A random variable that can only take on a finite or countably infinite number of values (e.g., the number of heads in a coin flip, the number of cars passing a point in an hour).\n",
        " * Continuous: A random variable that can take on any value within a given interval (e.g., the height of a person, the temperature of a room).\n",
        "\n",
        "---\n",
        "\n"
      ],
      "metadata": {
        "id": "kD1wiIR9r9Vb"
      }
    },
    {
      "cell_type": "markdown",
      "source": [
        "3. What is the difference between discrete and continuous distributions?\n",
        "- The difference between discrete and continuous distributions are as below:\n",
        "  *  Discrete Distributions:\n",
        "   * It Can only take on specific, distinct values, often integers, and are countable. Examples: Number of heads in a coin flip, number of cars passing an intersection in an hour, or the number of students in a class.\n",
        "   * Probability: You can calculate the probability of each specific value occurring. Examples of Distributions: Binomial, Poisson, Geometric.\n",
        "   * Graph: Represented by a histogram with bars that are not connected.\n",
        "  * Continuous Distributions:\n",
        "    * It Can take on any value within a given range, including decimals and fractions, and are uncountable. Examples: Height, weight, temperature, or time.\n",
        "    * Probability: The probability of a specific value is zero, so we talk about probabilities within ranges. Examples of Distributions: Normal, Exponential, Uniform.\n",
        "    * Graph: Represented by a smooth curve.\n",
        "\n",
        "\n",
        "---\n",
        "\n",
        "\n"
      ],
      "metadata": {
        "id": "kII-oRPpsmjK"
      }
    },
    {
      "cell_type": "markdown",
      "source": [
        "4. What are probability distribution functions (PDF)?\n",
        "- A probability distribution is a mathematical function that describes the probability of different possible values of a variable. Probability distributions are often depicted using graphs or probability tables.\n",
        "- A probability distribution idealy a frequency distribution, which describes a specific sample or dataset. It’s the number of times each possible value of a variable occurs in the dataset. The number of times a value occurs in a sample is determined by its probability of occurrence.\n",
        " * 0 means it’s impossible.\n",
        " * 1 means it’s certain.\n",
        "\n",
        "---\n",
        "\n"
      ],
      "metadata": {
        "id": "16rKz8aKuOs7"
      }
    },
    {
      "cell_type": "markdown",
      "source": [
        "5. How do cumulative distribution functions (CDF) differ from probability distrubution functions (PDF)?\n",
        "- The probability distribution function (PDF) gives the probability that a random variable takes on a specific value, while the cumulative distribution function (CDF) gives the probability that a random variable is less than or equal to a certain value.\n",
        "- The PDF provides the probability density at specific points, while the CDF accumulates the probabilities up to a certain point.\n",
        "- The CDF is always non-decreasing, as it represents the accumulation of probabilities, whereas the PDF does not have this restriction.\n",
        "- The CDF ranges from 0 to 1, while the PDF can take any non-negative value.\n",
        "- The CDF can be obtained by integrating the PDF, and the PDF can be obtained by differentiating the CDF.\n",
        "\n",
        "\n",
        "---\n",
        "\n"
      ],
      "metadata": {
        "id": "Oy0m9vqG2G28"
      }
    },
    {
      "cell_type": "markdown",
      "source": [
        "6. What is a discrete uniform distribution?\n",
        "- The discrete uniform distribution is a symmetric probability distribution wherein each of some finite whole number n of outcome values are equally likely to be observed. Thus every one of the n outcome values has equal probability 1/n. Intuitively, a discrete uniform distribution is \"a known, finite number of outcomes all equally likely to happen.\"\n",
        "\n",
        "---\n",
        "\n"
      ],
      "metadata": {
        "id": "sGdon6AM5Qq-"
      }
    },
    {
      "cell_type": "markdown",
      "source": [
        "7. What are the key properties of a Bernouli distribution ?\n",
        "- Key properties of Bernoulli distribution are as below:\n",
        " * The Bernoulli distribution is basically a discrete probability distribution.\n",
        " * It is a symmetric distribution.\n",
        " * It is a memoryless distribution.\n",
        " * The Bernoulli distribution has two parameters p and q as 1 and 0 for success and failure respectively.\n",
        " * If the probability of success is p then the probability of failure (q = 1-p) and this remains the uniform across each successive trial.\n",
        "\n",
        "---\n",
        "\n"
      ],
      "metadata": {
        "id": "vaqc6X8z5zBR"
      }
    },
    {
      "cell_type": "markdown",
      "source": [
        "8. What is the binomial distribution, and how is it used in probability?\n",
        "- The binomial distribution is the discrete probability distribution that gives only two possible results in an experiment, either success or failure.\n",
        "\n",
        " * Discrete Probability Distribution: The binomial distribution deals with discrete outcomes (e.g., number of heads in coin flips, number of defective items in a batch), not continuous values.\n",
        " * Independent Trials: Each trial in a binomial experiment is independent of the others, meaning the outcome of one trial doesn't influence the outcome of any other trial.\n",
        " * Fixed Number of Trials: The binomial distribution assumes a fixed number of trials (e.g., flipping a coin 10 times).\n",
        " * Two Possible Outcomes: Each trial has only two possible outcomes, typically labeled as \"success\" and \"failure\".\n",
        " * Constant Probability of Success: The probability of success (often denoted as 'p') remains the same for each trial.\n",
        " * Parameters: The binomial distribution is characterized by two parameters: the number of trials (n) and the probability of success (p).\n",
        "\n",
        "---\n",
        "\n"
      ],
      "metadata": {
        "id": "5J4rp4wj7tei"
      }
    },
    {
      "cell_type": "markdown",
      "source": [
        "9. What is the Poisson distribution and where is it applied?\n",
        "- The Poisson distribution is a discrete probability distribution that models the probability of a certain number of events occurring within a fixed interval of time or space, given the average rate of those events. It's applied in scenarios where events happen independently and at a constant rate.\n",
        "\n",
        "---\n",
        "\n"
      ],
      "metadata": {
        "id": "FjaLdNin_6p9"
      }
    },
    {
      "cell_type": "markdown",
      "source": [
        "10. What is a continuous uniform distribution?\n",
        "- In statistics, uniform distribution refers to a type of probability distribution in which all outcomes are equally likely. Probability distributions can help you decide the probability of a future event. Uniform distribution for a deck of cards is expected because the likelihood of drawing a heart, a club, a diamond, or a spade is equally likely.\n",
        "- A uniform distribution can be visualized as a straight horizontal line. For a coin flip, heads or tails each has a probability of occurring 50% of the time (p = 0.50) and would be plotted on a chart with a line from the y-axis at 0.50.\n",
        "\n",
        "---\n",
        "\n"
      ],
      "metadata": {
        "id": "gFK-xYYfAbAQ"
      }
    },
    {
      "cell_type": "markdown",
      "source": [
        "11. What are the characteristics of a normal distribution?\n",
        "- Normal distributions have key characteristics that are easy to spot in graphs:\n",
        " * The mean, median and mode are exactly the same.\n",
        " * The distribution is symmetric about the mean—half the values fall below the mean and half above the mean.\n",
        " * The distribution can be described by two values: the mean and the standard deviation.\n",
        "\n",
        "---\n",
        "\n",
        "\n"
      ],
      "metadata": {
        "id": "J4RRFsrECBHu"
      }
    },
    {
      "cell_type": "markdown",
      "source": [
        "12. What is the standard normal distribution, and why is it important?\n",
        "- The standard normal distribution is a specific type of normal distribution with a mean of 0 and a standard deviation of 1, crucial for statistical analysis because it allows for easy comparison of different datasets and probability calculations.\n",
        "\n",
        "---\n",
        "\n"
      ],
      "metadata": {
        "id": "7VB5mJwFHGlw"
      }
    },
    {
      "cell_type": "markdown",
      "source": [
        "13. What is the Central Limit Theorem (CLT), why is it critical in statistics?\n",
        "- The Central Limit Theorem (CLT) is a fundamental statistical concept stating that the distribution of sample means will approximate a normal distribution, regardless of the original population distribution, as the sample size increases. It's critical because it allows us to make inferences about populations using sample data and apply normal distribution techniques even when the underlying data isn't normally distributed.\n",
        "\n",
        "---\n",
        "\n"
      ],
      "metadata": {
        "id": "l07Jak4rIH5O"
      }
    },
    {
      "cell_type": "markdown",
      "source": [
        "14. How does the Central Limit Theorem (CLT) relate to the normal distribution?\n",
        "- The Central Limit Theorem (CLT) establishes that the distribution of sample means will approximate a normal distribution as the sample size increases, regardless of the original population's distribution, making the normal distribution a crucial tool in statistical inference.\n",
        "\n",
        "---\n",
        "\n"
      ],
      "metadata": {
        "id": "aRwUjLBFIvtw"
      }
    },
    {
      "cell_type": "markdown",
      "source": [
        "15. What is the application of Z statistics in hypothesis testing?\n",
        "- In hypothesis testing, Z-statistics (or Z-tests) are used to determine if there's a statistically significant difference between a sample mean and a population mean (or between two sample means) when the population standard deviation is known, or when the sample size is large enough.\n",
        "\n",
        "---\n",
        "\n"
      ],
      "metadata": {
        "id": "Ogqu8v6zJMoR"
      }
    },
    {
      "cell_type": "markdown",
      "source": [
        "16. How do you calculate a Z-score and what does it represent?\n",
        "- A z-score, calculated as (data point - mean) / standard deviation, represents how many standard deviations a data point is away from the mean, indicating whether it's above or below average.\n",
        "- **Z-Score Calculation:**\n",
        "\n",
        " Formula:\n",
        "\n",
        "```\n",
        "z = (x - μ) / σ\n",
        "Where:\n",
        "z = z-score\n",
        "x = the data point value\n",
        "μ (mu) = the population mean\n",
        "σ (sigma) = the population standard deviation\n",
        "\n",
        "```\n",
        "  * Example: If a data point (x) is 100, the population mean (μ) is 90, and the population standard deviation (σ) is 10, then the z-score is: z = (100 - 90) / 10 = 1.\n",
        "\n",
        "\n",
        "---\n",
        "\n"
      ],
      "metadata": {
        "id": "azEB6L1pJkF9"
      }
    },
    {
      "cell_type": "markdown",
      "source": [
        "17. What are point estimates and interval estimates in statistics?\n",
        "- **Point Estimate:** A point estimate is a single value, calculated from a sample, that is used to estimate the value of an unknown population parameter.It is used to provide a \"best guess\" for the true value of the population parameter.\n",
        "-Example: The sample mean (average) is a point estimate of the population mean.\n",
        "\n",
        "- **Interval Estimate:** An interval estimate is a range of values, calculated from a sample, within which the population parameter is likely to lie. And its purpose is to provide a more informative estimate by giving a range of plausible values for the population parameter, along with a measure of confidence in that range.\n",
        "- Example:\n",
        "A confidence interval is a common type of interval estimate.\n",
        "\n",
        "---\n",
        "\n"
      ],
      "metadata": {
        "id": "su1VWCkHKlo5"
      }
    },
    {
      "cell_type": "markdown",
      "source": [
        "18. What is the significance of confidence intervals in statisticals analysis?\n",
        "- Confidence intervals in statistical analysis are crucial because they provide a range of plausible values for an unknown population parameter, offering a more informative and nuanced understanding of the data than a single point estimate alone, and helping to quantify uncertainty and make more reliable inferences.\n",
        "\n",
        "---\n",
        "\n"
      ],
      "metadata": {
        "id": "wNczdw-pMXdA"
      }
    },
    {
      "cell_type": "markdown",
      "source": [
        "19. What is the relationship between a Z-score and a confidence interval?\n",
        "- When constructing a confidence interval, you use a Z-score (or critical value, z*) corresponding to your desired confidence level (e.g., 95%, 99%) to determine the margin of error.\n",
        "- A higher confidence level (e.g., 99% vs. 95%) requires a larger Z-score (or critical value, z*) and, consequently, a wider confidence interval to capture the true population parameter with greater certainty.\n",
        "\n",
        "---\n",
        "\n"
      ],
      "metadata": {
        "id": "02wgziR4M3UF"
      }
    },
    {
      "cell_type": "markdown",
      "source": [
        "20. How are Z-scores used to compare different distributions?\n",
        "- Steps to be followed while comparing different distribution using Z-scores:\n",
        " * Standardization: Z-scores transform raw data into a standard normal distribution with a mean of 0 and a standard deviation of 1.\n",
        " * Common Scale: This transformation allows for comparisons across different datasets by placing scores on a common scale, regardless of their original units or scales.\n",
        " * Interpreting Z-scores: A z-score indicates how many standard deviations a data point is away from the mean. A positive z-score means the data point is above the mean, while a negative z-score means it's below the mean.\n",
        " * Identifying Outliers: Z-scores help identify outliers, as data points with very high or low z-scores are considered unusual or extreme.\n",
        " * Comparing Data Points: By comparing z-scores, you can determine which data point is relatively higher or lower than another, even if they come from different distributions.\n",
        "\n",
        "---\n",
        "\n",
        "\n"
      ],
      "metadata": {
        "id": "DQ2rE1oTODzz"
      }
    },
    {
      "cell_type": "markdown",
      "source": [
        "21. What are the assumptions for applying the Central Limit Theorem?\n",
        "- Assumptions for applying the Central Limit Theorem are as follows:\n",
        " * The data must follow the randomization condition. It must be sampled randomly\n",
        " * Samples should be independent of each other. One sample should not influence the other samples\n",
        " * Sample size should be not more than 10% of the population when sampling is done without replacement\n",
        " * The sample size should be sufficiently large.\n",
        "\n",
        "---\n",
        "\n"
      ],
      "metadata": {
        "id": "_HuzFrssPFDh"
      }
    },
    {
      "cell_type": "markdown",
      "source": [
        "22. What is the concept of expected value in a probability distribution ?\n",
        "- **Expected Value (E(X) or μ):** It's a theoretical average or long-term average of the random variable's values. Calculated by summing the product of each possible outcome (x) with its corresponding probability (P(x)).\n",
        "```\n",
        "Mathematically: E(X) = Σ [x * P(x)]\n",
        "```\n",
        "\n",
        "\n",
        "---\n",
        "\n"
      ],
      "metadata": {
        "id": "O5fiV85VP3po"
      }
    },
    {
      "cell_type": "markdown",
      "source": [
        "23. How does a probability distribution relate to the expected outcome of a random variable?\n",
        "- A Random variable is a variable whose value is a numerical outcome of a random phenomenon. Whereas, a probability distribution is a mathematical function that assigns probabilities to different possible outcomes (or values) of a random variable. And the expected outcome is calculated by weighting each possible value by its probability and summing these products.\n",
        "\n",
        "---\n",
        "\n",
        "\n",
        "\n",
        "---\n",
        "\n"
      ],
      "metadata": {
        "id": "W43MzKQ5Qq57"
      }
    }
  ]
}